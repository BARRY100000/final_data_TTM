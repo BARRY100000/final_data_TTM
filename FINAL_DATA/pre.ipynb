{
 "cells": [
  {
   "cell_type": "code",
   "execution_count": 1,
   "metadata": {},
   "outputs": [
    {
     "name": "stdout",
     "output_type": "stream",
     "text": [
      "分割完成，已儲存為兩個CSV文件\n"
     ]
    }
   ],
   "source": [
    "import pandas as pd\n",
    "\n",
    "# 讀取原始CSV文件\n",
    "file_path = 'content/final_data_4.csv'\n",
    "data = pd.read_csv(file_path)\n",
    "\n",
    "# 分割資料為SEC不等於0和SEC等於0的部分\n",
    "data_sec_nonzero = data[data['SEC'] != 0]\n",
    "data_sec_zero = data[data['SEC'] == 0]\n",
    "\n",
    "# 儲存分割後的資料到新的CSV文件\n",
    "data_sec_nonzero.to_csv('content/final_data_sec_nonzero.csv', index=False)\n",
    "data_sec_zero.to_csv('content/final_data_sec_zero.csv', index=False)\n",
    "\n",
    "print(\"分割完成，已儲存為兩個CSV文件\")\n"
   ]
  },
  {
   "cell_type": "code",
   "execution_count": 2,
   "metadata": {},
   "outputs": [
    {
     "name": "stdout",
     "output_type": "stream",
     "text": [
      "分割完成，已儲存為兩個CSV文件\n"
     ]
    },
    {
     "ename": "",
     "evalue": "",
     "output_type": "error",
     "traceback": [
      "\u001b[1;31mThe Kernel crashed while executing code in the current cell or a previous cell. \n",
      "\u001b[1;31mPlease review the code in the cell(s) to identify a possible cause of the failure. \n",
      "\u001b[1;31mClick <a href='https://aka.ms/vscodeJupyterKernelCrash'>here</a> for more info. \n",
      "\u001b[1;31mView Jupyter <a href='command:jupyter.viewOutput'>log</a> for further details."
     ]
    }
   ],
   "source": [
    "import pandas as pd\n",
    "\n",
    "# 讀取原始CSV文件\n",
    "file_path_nonzero = 'content/final_data_sec_nonzero.csv'\n",
    "data_nonzero = pd.read_csv(file_path_nonzero)\n",
    "\n",
    "# 計算每個 playerid 的 row 數量\n",
    "player_counts = data_nonzero['playerid'].value_counts()\n",
    "\n",
    "# 找出 row 數量不足 11 的 playerid\n",
    "insufficient_rows_ids = player_counts[player_counts < 11].index\n",
    "\n",
    "# 分割資料：足夠的資料和不足的資料\n",
    "data_sufficient = data_nonzero[~data_nonzero['playerid'].isin(insufficient_rows_ids)]\n",
    "data_insufficient = data_nonzero[data_nonzero['playerid'].isin(insufficient_rows_ids)]\n",
    "\n",
    "# 儲存分割後的資料到新的 CSV 文件\n",
    "data_sufficient.to_csv('content/final_data_sec_nonzero_sufficient.csv', index=False)\n",
    "data_insufficient.to_csv('content/final_data_sec_nonzero_insufficient.csv', index=False)\n",
    "\n",
    "print(\"分割完成，已儲存為兩個CSV文件\")\n"
   ]
  },
  {
   "cell_type": "code",
   "execution_count": null,
   "metadata": {},
   "outputs": [],
   "source": []
  }
 ],
 "metadata": {
  "kernelspec": {
   "display_name": "tsfm_conda_env",
   "language": "python",
   "name": "python3"
  },
  "language_info": {
   "codemirror_mode": {
    "name": "ipython",
    "version": 3
   },
   "file_extension": ".py",
   "mimetype": "text/x-python",
   "name": "python",
   "nbconvert_exporter": "python",
   "pygments_lexer": "ipython3",
   "version": "3.10.15"
  }
 },
 "nbformat": 4,
 "nbformat_minor": 2
}
